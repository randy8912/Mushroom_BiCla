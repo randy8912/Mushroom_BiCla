{
 "cells": [
  {
   "cell_type": "markdown",
   "id": "e6e3ef7b-db03-4555-8f7d-d972902768ff",
   "metadata": {},
   "source": [
    "# Mushroom Classification Project\n",
    "\n",
    "## Introduction\n",
    "In this project, we aim to build a machine learning model to classify mushrooms as either poisonous or edible. This classification task is critical for public safety, as consuming poisonous mushrooms can lead to severe health issues or even death. Our goal is to create a highly accurate model that can help in identifying poisonous mushrooms based on their features.\n",
    "\n",
    "To systematically approach this problem, we have divided our notebook into seven key steps:\n",
    "\n",
    "1. **Problem Definition**: Clearly defining the problem we aim to solve and its significance.\n",
    "2. **Data**: Acquiring and understanding the dataset we will use for modeling.\n",
    "3. **Evaluation**: Establishing the metrics we will use to evaluate the performance of our model.\n",
    "4. **Features**: Exploring and preprocessing the data to extract useful features for the model.\n",
    "5. **Modelling**: Building and training various machine learning models to find the best one.\n",
    "6. **Experiments**: Conducting experiments to optimize model performance through hyperparameter tuning and testing different algorithms.\n",
    "7. **Feature Importance**: Identifying and visualizing the most important features that influence our model’s predictions.\n",
    "\n",
    "This structured approach ensures that we thoroughly understand each aspect of the problem and methodically build a solution. By following these steps, we aim to create a robust model that can accurately predict the poisonous nature of mushrooms.\n",
    "\n",
    "## Why This Analysis is Important\n",
    "The ability to accurately classify mushrooms as poisonous or edible is not only a fascinating machine learning challenge but also a real-world application with significant implications. This project demonstrates the practical utility of machine learning in solving complex classification problems, showcases various data science techniques, and highlights the importance of feature engineering and model evaluation.\n",
    "\n",
    "Throughout this notebook, we will provide detailed explanations and code for each step, making it accessible to those who are new to machine learning while also being comprehensive for more experienced practitioners.\n",
    "\n",
    "Let's get started!\n"
   ]
  },
  {
   "cell_type": "markdown",
   "id": "2bb12fba-6ffc-4bd3-bba9-705fdeba69db",
   "metadata": {},
   "source": [
    "# Step 1: Problem Definition\n",
    "In this project, we aim to build a machine learning model to classify mushrooms as either poisonous or edible. This classification is crucial for safety and public health as consuming poisonous mushrooms can be dangerous. We will use a dataset from Kaggle that contains various features of mushroom species to build our model.\n"
   ]
  },
  {
   "cell_type": "markdown",
   "id": "e8a508a5-1c90-4fe8-9c10-7413a64c1f8c",
   "metadata": {},
   "source": [
    "# Step 2: Data\n",
    "We will use the mushroom dataset obtained from Kaggle. This dataset contains various features of mushroom species and a target variable indicating whether a mushroom is poisonous or not.\n"
   ]
  },
  {
   "cell_type": "code",
   "execution_count": 1,
   "id": "ea56ef1b-c348-4f8a-8730-c4692848516d",
   "metadata": {},
   "outputs": [
    {
     "data": {
      "text/html": [
       "<div>\n",
       "<style scoped>\n",
       "    .dataframe tbody tr th:only-of-type {\n",
       "        vertical-align: middle;\n",
       "    }\n",
       "\n",
       "    .dataframe tbody tr th {\n",
       "        vertical-align: top;\n",
       "    }\n",
       "\n",
       "    .dataframe thead th {\n",
       "        text-align: right;\n",
       "    }\n",
       "</style>\n",
       "<table border=\"1\" class=\"dataframe\">\n",
       "  <thead>\n",
       "    <tr style=\"text-align: right;\">\n",
       "      <th></th>\n",
       "      <th>cap-diameter</th>\n",
       "      <th>cap-shape</th>\n",
       "      <th>gill-attachment</th>\n",
       "      <th>gill-color</th>\n",
       "      <th>stem-height</th>\n",
       "      <th>stem-width</th>\n",
       "      <th>stem-color</th>\n",
       "      <th>season</th>\n",
       "      <th>class</th>\n",
       "    </tr>\n",
       "  </thead>\n",
       "  <tbody>\n",
       "    <tr>\n",
       "      <th>0</th>\n",
       "      <td>1372</td>\n",
       "      <td>2</td>\n",
       "      <td>2</td>\n",
       "      <td>10</td>\n",
       "      <td>3.807467</td>\n",
       "      <td>1545</td>\n",
       "      <td>11</td>\n",
       "      <td>1.804273</td>\n",
       "      <td>1</td>\n",
       "    </tr>\n",
       "    <tr>\n",
       "      <th>1</th>\n",
       "      <td>1461</td>\n",
       "      <td>2</td>\n",
       "      <td>2</td>\n",
       "      <td>10</td>\n",
       "      <td>3.807467</td>\n",
       "      <td>1557</td>\n",
       "      <td>11</td>\n",
       "      <td>1.804273</td>\n",
       "      <td>1</td>\n",
       "    </tr>\n",
       "    <tr>\n",
       "      <th>2</th>\n",
       "      <td>1371</td>\n",
       "      <td>2</td>\n",
       "      <td>2</td>\n",
       "      <td>10</td>\n",
       "      <td>3.612496</td>\n",
       "      <td>1566</td>\n",
       "      <td>11</td>\n",
       "      <td>1.804273</td>\n",
       "      <td>1</td>\n",
       "    </tr>\n",
       "    <tr>\n",
       "      <th>3</th>\n",
       "      <td>1261</td>\n",
       "      <td>6</td>\n",
       "      <td>2</td>\n",
       "      <td>10</td>\n",
       "      <td>3.787572</td>\n",
       "      <td>1566</td>\n",
       "      <td>11</td>\n",
       "      <td>1.804273</td>\n",
       "      <td>1</td>\n",
       "    </tr>\n",
       "    <tr>\n",
       "      <th>4</th>\n",
       "      <td>1305</td>\n",
       "      <td>6</td>\n",
       "      <td>2</td>\n",
       "      <td>10</td>\n",
       "      <td>3.711971</td>\n",
       "      <td>1464</td>\n",
       "      <td>11</td>\n",
       "      <td>0.943195</td>\n",
       "      <td>1</td>\n",
       "    </tr>\n",
       "  </tbody>\n",
       "</table>\n",
       "</div>"
      ],
      "text/plain": [
       "   cap-diameter  cap-shape  gill-attachment  gill-color  stem-height  \\\n",
       "0          1372          2                2          10     3.807467   \n",
       "1          1461          2                2          10     3.807467   \n",
       "2          1371          2                2          10     3.612496   \n",
       "3          1261          6                2          10     3.787572   \n",
       "4          1305          6                2          10     3.711971   \n",
       "\n",
       "   stem-width  stem-color    season  class  \n",
       "0        1545          11  1.804273      1  \n",
       "1        1557          11  1.804273      1  \n",
       "2        1566          11  1.804273      1  \n",
       "3        1566          11  1.804273      1  \n",
       "4        1464          11  0.943195      1  "
      ]
     },
     "execution_count": 1,
     "metadata": {},
     "output_type": "execute_result"
    }
   ],
   "source": [
    "import pandas as pd\n",
    "\n",
    "# Load the dataset\n",
    "df = pd.read_csv('./data/mushroom_cleaned.csv')\n",
    "df.head()"
   ]
  },
  {
   "cell_type": "markdown",
   "id": "fa1de307-d880-42cf-ae56-2b088176373d",
   "metadata": {},
   "source": [
    "# Step 3: Evaluation\n",
    "To evaluate the performance of our model, we will use accuracy as the primary metric. Accuracy measures the proportion of correct predictions made by the model. Given the binary nature of our classification task, accuracy is a suitable metric to gauge our model's performance.\n"
   ]
  },
  {
   "cell_type": "markdown",
   "id": "3122af49-dfc4-49ad-a2cd-08c79f7da5c8",
   "metadata": {},
   "source": [
    "# Step 4: Features\n",
    "We will examine the dataset and select relevant features for our model. Since the dataset contains categorical variables, we will use encoding techniques to convert these categorical variables into numerical formats suitable for machine learning algorithms.\n"
   ]
  },
  {
   "cell_type": "code",
   "execution_count": 3,
   "id": "9cbe95b1-e1dd-4348-9a2c-c0c188c2e9a3",
   "metadata": {},
   "outputs": [
    {
     "name": "stdout",
     "output_type": "stream",
     "text": [
      "<class 'pandas.core.frame.DataFrame'>\n",
      "RangeIndex: 54035 entries, 0 to 54034\n",
      "Data columns (total 9 columns):\n",
      " #   Column           Non-Null Count  Dtype  \n",
      "---  ------           --------------  -----  \n",
      " 0   cap-diameter     54035 non-null  int64  \n",
      " 1   cap-shape        54035 non-null  int64  \n",
      " 2   gill-attachment  54035 non-null  int64  \n",
      " 3   gill-color       54035 non-null  int64  \n",
      " 4   stem-height      54035 non-null  float64\n",
      " 5   stem-width       54035 non-null  int64  \n",
      " 6   stem-color       54035 non-null  int64  \n",
      " 7   season           54035 non-null  float64\n",
      " 8   class            54035 non-null  int64  \n",
      "dtypes: float64(2), int64(7)\n",
      "memory usage: 3.7 MB\n"
     ]
    }
   ],
   "source": [
    "# Explore the dataset\n",
    "df.info()"
   ]
  },
  {
   "cell_type": "code",
   "execution_count": 4,
   "id": "c62bad84-b483-4151-876a-90e665563ada",
   "metadata": {},
   "outputs": [
    {
     "data": {
      "text/html": [
       "<div>\n",
       "<style scoped>\n",
       "    .dataframe tbody tr th:only-of-type {\n",
       "        vertical-align: middle;\n",
       "    }\n",
       "\n",
       "    .dataframe tbody tr th {\n",
       "        vertical-align: top;\n",
       "    }\n",
       "\n",
       "    .dataframe thead th {\n",
       "        text-align: right;\n",
       "    }\n",
       "</style>\n",
       "<table border=\"1\" class=\"dataframe\">\n",
       "  <thead>\n",
       "    <tr style=\"text-align: right;\">\n",
       "      <th></th>\n",
       "      <th>cap-diameter</th>\n",
       "      <th>cap-shape</th>\n",
       "      <th>gill-attachment</th>\n",
       "      <th>gill-color</th>\n",
       "      <th>stem-height</th>\n",
       "      <th>stem-width</th>\n",
       "      <th>stem-color</th>\n",
       "      <th>season</th>\n",
       "      <th>class</th>\n",
       "    </tr>\n",
       "  </thead>\n",
       "  <tbody>\n",
       "    <tr>\n",
       "      <th>0</th>\n",
       "      <td>1372</td>\n",
       "      <td>2</td>\n",
       "      <td>2</td>\n",
       "      <td>10</td>\n",
       "      <td>3.807467</td>\n",
       "      <td>1545</td>\n",
       "      <td>11</td>\n",
       "      <td>1.804273</td>\n",
       "      <td>1</td>\n",
       "    </tr>\n",
       "    <tr>\n",
       "      <th>1</th>\n",
       "      <td>1461</td>\n",
       "      <td>2</td>\n",
       "      <td>2</td>\n",
       "      <td>10</td>\n",
       "      <td>3.807467</td>\n",
       "      <td>1557</td>\n",
       "      <td>11</td>\n",
       "      <td>1.804273</td>\n",
       "      <td>1</td>\n",
       "    </tr>\n",
       "    <tr>\n",
       "      <th>2</th>\n",
       "      <td>1371</td>\n",
       "      <td>2</td>\n",
       "      <td>2</td>\n",
       "      <td>10</td>\n",
       "      <td>3.612496</td>\n",
       "      <td>1566</td>\n",
       "      <td>11</td>\n",
       "      <td>1.804273</td>\n",
       "      <td>1</td>\n",
       "    </tr>\n",
       "    <tr>\n",
       "      <th>3</th>\n",
       "      <td>1261</td>\n",
       "      <td>6</td>\n",
       "      <td>2</td>\n",
       "      <td>10</td>\n",
       "      <td>3.787572</td>\n",
       "      <td>1566</td>\n",
       "      <td>11</td>\n",
       "      <td>1.804273</td>\n",
       "      <td>1</td>\n",
       "    </tr>\n",
       "    <tr>\n",
       "      <th>4</th>\n",
       "      <td>1305</td>\n",
       "      <td>6</td>\n",
       "      <td>2</td>\n",
       "      <td>10</td>\n",
       "      <td>3.711971</td>\n",
       "      <td>1464</td>\n",
       "      <td>11</td>\n",
       "      <td>0.943195</td>\n",
       "      <td>1</td>\n",
       "    </tr>\n",
       "  </tbody>\n",
       "</table>\n",
       "</div>"
      ],
      "text/plain": [
       "   cap-diameter  cap-shape  gill-attachment  gill-color  stem-height  \\\n",
       "0          1372          2                2          10     3.807467   \n",
       "1          1461          2                2          10     3.807467   \n",
       "2          1371          2                2          10     3.612496   \n",
       "3          1261          6                2          10     3.787572   \n",
       "4          1305          6                2          10     3.711971   \n",
       "\n",
       "   stem-width  stem-color    season  class  \n",
       "0        1545          11  1.804273      1  \n",
       "1        1557          11  1.804273      1  \n",
       "2        1566          11  1.804273      1  \n",
       "3        1566          11  1.804273      1  \n",
       "4        1464          11  0.943195      1  "
      ]
     },
     "execution_count": 4,
     "metadata": {},
     "output_type": "execute_result"
    }
   ],
   "source": [
    "# Encode categorical variables\n",
    "from sklearn.preprocessing import LabelEncoder\n",
    "\n",
    "# Apply label encoding to all categorical columns\n",
    "label_encoders = {}\n",
    "for column in df.columns:\n",
    "    if df[column].dtype == 'object':\n",
    "        le = LabelEncoder()\n",
    "        df[column] = le.fit_transform(df[column])\n",
    "        label_encoders[column] = le\n",
    "\n",
    "df.head()\n"
   ]
  },
  {
   "cell_type": "markdown",
   "id": "004b42a6-8228-4bdc-a379-fda1cf455148",
   "metadata": {},
   "source": [
    "# Step 5: Modelling\n",
    "We will split the data into training and testing sets and build a machine learning model using a suitable algorithm. Given the nature of our classification problem, we will try several algorithms like Logistic Regression, Random Forest, and Gradient Boosting to identify the best performing model.\n",
    "\n",
    "Want to know more about how we choose our model? Take a look at the SciKit-Learn estimator map:\n",
    "\n",
    "https://scikit-learn.org/stable/tutorial/machine_learning_map/"
   ]
  },
  {
   "cell_type": "code",
   "execution_count": 5,
   "id": "82718ef7-0d44-4d95-8065-35cbabaa2cdc",
   "metadata": {},
   "outputs": [
    {
     "data": {
      "text/plain": [
       "0.9909318034607199"
      ]
     },
     "execution_count": 5,
     "metadata": {},
     "output_type": "execute_result"
    }
   ],
   "source": [
    "from sklearn.model_selection import train_test_split\n",
    "from sklearn.ensemble import RandomForestClassifier\n",
    "from sklearn.metrics import accuracy_score\n",
    "\n",
    "# Split the data into features and target variable\n",
    "X = df.drop('class', axis=1)\n",
    "y = df['class']\n",
    "\n",
    "# Split the data into training and testing sets\n",
    "X_train, X_test, y_train, y_test = train_test_split(X, y, test_size=0.2, random_state=42)\n",
    "\n",
    "# Initialize and train the model\n",
    "model = RandomForestClassifier(random_state=42)\n",
    "model.fit(X_train, y_train)\n",
    "\n",
    "# Predict on the test set\n",
    "y_pred = model.predict(X_test)\n",
    "\n",
    "# Evaluate the model\n",
    "accuracy = accuracy_score(y_test, y_pred)\n",
    "accuracy"
   ]
  },
  {
   "cell_type": "markdown",
   "id": "5a881d42-b048-4784-ab72-0505cb2cc3b3",
   "metadata": {},
   "source": [
    "# Step 6: Experiments\n",
    "We will experiment with different models and hyperparameters to improve the accuracy of our predictions. This includes trying out different algorithms, tuning hyperparameters, and performing cross-validation to ensure our model generalizes well to unseen data.\n"
   ]
  },
  {
   "cell_type": "code",
   "execution_count": 6,
   "id": "750bd9af-d791-4675-b52a-afe84418c12e",
   "metadata": {},
   "outputs": [
    {
     "data": {
      "text/plain": [
       "0.991301933931711"
      ]
     },
     "execution_count": 6,
     "metadata": {},
     "output_type": "execute_result"
    }
   ],
   "source": [
    "from sklearn.model_selection import GridSearchCV\n",
    "\n",
    "# Define parameter grid for Random Forest\n",
    "param_grid = {\n",
    "    'n_estimators': [100, 200, 300],\n",
    "    'max_depth': [None, 10, 20, 30],\n",
    "    'min_samples_split': [2, 5, 10]\n",
    "}\n",
    "\n",
    "# Initialize GridSearchCV\n",
    "grid_search = GridSearchCV(RandomForestClassifier(random_state=42), param_grid, cv=5, scoring='accuracy', n_jobs=-1)\n",
    "\n",
    "# Fit the model\n",
    "grid_search.fit(X_train, y_train)\n",
    "\n",
    "# Get the best parameters and best score\n",
    "best_params = grid_search.best_params_\n",
    "best_score = grid_search.best_score_\n",
    "\n",
    "best_params, best_score\n",
    "\n",
    "# Evaluate the best model on the test set\n",
    "best_model = grid_search.best_estimator_\n",
    "y_pred_best = best_model.predict(X_test)\n",
    "final_accuracy = accuracy_score(y_test, y_pred_best)\n",
    "final_accuracy"
   ]
  },
  {
   "cell_type": "markdown",
   "id": "400f07a4-240a-4b69-acf8-5303ddb87490",
   "metadata": {},
   "source": [
    "# Step 7: Feature Importance\n",
    "To show feature importance for the model, we will extract the feature importances from the best model (Random Forest in this case) and visualize them using a bar plot."
   ]
  },
  {
   "cell_type": "code",
   "execution_count": 7,
   "id": "39b137a3-e437-4e36-b8b1-ad0594e9cceb",
   "metadata": {},
   "outputs": [
    {
     "data": {
      "image/png": "[encoded data removed]",
      "text/plain": [
       "<Figure size 1200x800 with 1 Axes>"
      ]
     },
     "metadata": {},
     "output_type": "display_data"
    }
   ],
   "source": [
    "import matplotlib.pyplot as plt\n",
    "import numpy as np\n",
    "\n",
    "# Get feature importances from the best model\n",
    "feature_importances = best_model.feature_importances_\n",
    "\n",
    "# Create a DataFrame for visualization\n",
    "features_df = pd.DataFrame({\n",
    "    'Feature': X.columns,\n",
    "    'Importance': feature_importances\n",
    "})\n",
    "\n",
    "# Sort the DataFrame by importance\n",
    "features_df = features_df.sort_values(by='Importance', ascending=False)\n",
    "\n",
    "# Plot the feature importances\n",
    "plt.figure(figsize=(12, 8))\n",
    "plt.barh(features_df['Feature'], features_df['Importance'], color='skyblue')\n",
    "plt.xlabel('Importance')\n",
    "plt.ylabel('Feature')\n",
    "plt.title('Feature Importance')\n",
    "plt.gca().invert_yaxis()\n",
    "plt.show()"
   ]
  },
  {
   "cell_type": "markdown",
   "id": "171a02bd-7f97-4e65-a230-8ba1da941586",
   "metadata": {},
   "source": [
    "# Summary and Conclusion\n",
    "\n",
    "## Summary\n",
    "In this notebook, we embarked on a journey to build a machine learning model to classify mushrooms as either poisonous or edible. We structured our approach into seven distinct steps to ensure a comprehensive and systematic solution to this problem:\n",
    "\n",
    "1. **Problem Definition**: We established the importance of correctly classifying mushrooms to prevent potential health hazards.\n",
    "2. **Data**: We utilized a well-documented dataset from Kaggle, containing various features of mushroom species.\n",
    "3. **Evaluation**: We chose accuracy as our primary evaluation metric to assess model performance.\n",
    "4. **Features**: We explored the dataset and applied label encoding to transform categorical features into numerical ones.\n",
    "5. **Modelling**: We trained and tested multiple machine learning models, with a focus on Random Forest due to its robustness and interpretability.\n",
    "6. **Experiments**: We performed hyperparameter tuning using GridSearchCV to optimize our model.\n",
    "7. **Feature Importance**: We analyzed and visualized the feature importance to understand which attributes were most influential in the classification.\n",
    "\n",
    "## Conclusion\n",
    "Through careful data preprocessing, model selection, and hyperparameter tuning, we developed a highly accurate model for classifying mushrooms as poisonous or edible. Our best model achieved an impressive accuracy score, demonstrating the effectiveness of our approach.\n",
    "\n",
    "This project highlights the power of machine learning in tackling real-world classification problems and underscores the importance of each step in the data science workflow. By understanding and implementing these steps, we can build robust models that provide valuable insights and practical solutions.\n",
    "\n",
    "### Footnote\n",
    "This notebook serves as a comprehensive guide for building a machine learning model for classification problems. It emphasizes the importance of a structured approach, thorough data analysis, and iterative experimentation to achieve optimal results. The insights gained from this project can be applied to a wide range of classification tasks, showcasing the versatility and impact of machine learning in various domains. Thank you for taking the time to engage with this notebook. Please let me know if you see points of improvement. I will take the time to harness my Modelling capabilities even further. Enjoy your day!\n"
   ]
  },
  {
   "cell_type": "code",
   "execution_count": null,
   "id": "a1be1c85-edd1-4818-a05a-72f3de418aaa",
   "metadata": {},
   "outputs": [],
   "source": []
  }
 ],
 "metadata": {
  "kernelspec": {
   "display_name": "Python 3 (ipykernel)",
   "language": "python",
   "name": "python3"
  },
  "language_info": {
   "codemirror_mode": {
    "name": "ipython",
    "version": 3
   },
   "file_extension": ".py",
   "mimetype": "text/x-python",
   "name": "python",
   "nbconvert_exporter": "python",
   "pygments_lexer": "ipython3",
   "version": "3.11.5"
  }
 },
 "nbformat": 4,
 "nbformat_minor": 5
}
